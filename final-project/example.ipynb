{
 "cells": [
  {
   "cell_type": "code",
   "execution_count": 3,
   "metadata": {
    "collapsed": false
   },
   "outputs": [
   ],
   "source": [
    "#import important libraries\n",
    "import numpy as np\n",
    "import pandas as pd\n",
    "import sklearn\n",
    "\n",
    "import matplotlib.pyplot as plt\n",
    "import seaborn as sns\n",
    "import plotly.express as px"
   ]
  },
  {
   "cell_type": "markdown",
   "metadata": {
    "collapsed": false
   },
   "source": [
    "## Linear Regression Example\n",
    "\n"
   ]
  },
  {
   "cell_type": "code",
   "execution_count": 21,
   "metadata": {
    "collapsed": false
   },
   "outputs": [
    {
     "data": {
      "text/html": [
       "<div>\n",
       "<style scoped>\n",
       "    .dataframe tbody tr th:only-of-type {\n",
       "        vertical-align: middle;\n",
       "    }\n",
       "\n",
       "    .dataframe tbody tr th {\n",
       "        vertical-align: top;\n",
       "    }\n",
       "\n",
       "    .dataframe thead th {\n",
       "        text-align: right;\n",
       "    }\n",
       "</style>\n",
       "<table border=\"1\" class=\"dataframe\">\n",
       "  <thead>\n",
       "    <tr style=\"text-align: right;\">\n",
       "      <th></th>\n",
       "      <th>age</th>\n",
       "      <th>sex</th>\n",
       "      <th>bmi</th>\n",
       "      <th>children</th>\n",
       "      <th>smoker</th>\n",
       "      <th>region</th>\n",
       "      <th>charges</th>\n",
       "    </tr>\n",
       "  </thead>\n",
       "  <tbody>\n",
       "    <tr>\n",
       "      <th>0</th>\n",
       "      <td>19</td>\n",
       "      <td>female</td>\n",
       "      <td>27.900</td>\n",
       "      <td>0</td>\n",
       "      <td>yes</td>\n",
       "      <td>southwest</td>\n",
       "      <td>16884.92400</td>\n",
       "    </tr>\n",
       "    <tr>\n",
       "      <th>1</th>\n",
       "      <td>18</td>\n",
       "      <td>male</td>\n",
       "      <td>33.770</td>\n",
       "      <td>1</td>\n",
       "      <td>no</td>\n",
       "      <td>southeast</td>\n",
       "      <td>1725.55230</td>\n",
       "    </tr>\n",
       "    <tr>\n",
       "      <th>2</th>\n",
       "      <td>28</td>\n",
       "      <td>male</td>\n",
       "      <td>33.000</td>\n",
       "      <td>3</td>\n",
       "      <td>no</td>\n",
       "      <td>southeast</td>\n",
       "      <td>4449.46200</td>\n",
       "    </tr>\n",
       "    <tr>\n",
       "      <th>3</th>\n",
       "      <td>33</td>\n",
       "      <td>male</td>\n",
       "      <td>22.705</td>\n",
       "      <td>0</td>\n",
       "      <td>no</td>\n",
       "      <td>northwest</td>\n",
       "      <td>21984.47061</td>\n",
       "    </tr>\n",
       "    <tr>\n",
       "      <th>4</th>\n",
       "      <td>32</td>\n",
       "      <td>male</td>\n",
       "      <td>28.880</td>\n",
       "      <td>0</td>\n",
       "      <td>no</td>\n",
       "      <td>northwest</td>\n",
       "      <td>3866.85520</td>\n",
       "    </tr>\n",
       "    <tr>\n",
       "      <th>...</th>\n",
       "      <td>...</td>\n",
       "      <td>...</td>\n",
       "      <td>...</td>\n",
       "      <td>...</td>\n",
       "      <td>...</td>\n",
       "      <td>...</td>\n",
       "      <td>...</td>\n",
       "    </tr>\n",
       "    <tr>\n",
       "      <th>1333</th>\n",
       "      <td>50</td>\n",
       "      <td>male</td>\n",
       "      <td>30.970</td>\n",
       "      <td>3</td>\n",
       "      <td>no</td>\n",
       "      <td>northwest</td>\n",
       "      <td>10600.54830</td>\n",
       "    </tr>\n",
       "    <tr>\n",
       "      <th>1334</th>\n",
       "      <td>18</td>\n",
       "      <td>female</td>\n",
       "      <td>31.920</td>\n",
       "      <td>0</td>\n",
       "      <td>no</td>\n",
       "      <td>northeast</td>\n",
       "      <td>2205.98080</td>\n",
       "    </tr>\n",
       "    <tr>\n",
       "      <th>1335</th>\n",
       "      <td>18</td>\n",
       "      <td>female</td>\n",
       "      <td>36.850</td>\n",
       "      <td>0</td>\n",
       "      <td>no</td>\n",
       "      <td>southeast</td>\n",
       "      <td>1629.83350</td>\n",
       "    </tr>\n",
       "    <tr>\n",
       "      <th>1336</th>\n",
       "      <td>21</td>\n",
       "      <td>female</td>\n",
       "      <td>25.800</td>\n",
       "      <td>0</td>\n",
       "      <td>no</td>\n",
       "      <td>southwest</td>\n",
       "      <td>2007.94500</td>\n",
       "    </tr>\n",
       "    <tr>\n",
       "      <th>1337</th>\n",
       "      <td>61</td>\n",
       "      <td>female</td>\n",
       "      <td>29.070</td>\n",
       "      <td>0</td>\n",
       "      <td>yes</td>\n",
       "      <td>northwest</td>\n",
       "      <td>29141.36030</td>\n",
       "    </tr>\n",
       "  </tbody>\n",
       "</table>\n",
       "<p>1338 rows × 7 columns</p>\n",
       "</div>"
      ],
      "text/plain": [
       "      age     sex     bmi  children smoker     region      charges\n",
       "0      19  female  27.900         0    yes  southwest  16884.92400\n",
       "1      18    male  33.770         1     no  southeast   1725.55230\n",
       "2      28    male  33.000         3     no  southeast   4449.46200\n",
       "3      33    male  22.705         0     no  northwest  21984.47061\n",
       "4      32    male  28.880         0     no  northwest   3866.85520\n",
       "...   ...     ...     ...       ...    ...        ...          ...\n",
       "1333   50    male  30.970         3     no  northwest  10600.54830\n",
       "1334   18  female  31.920         0     no  northeast   2205.98080\n",
       "1335   18  female  36.850         0     no  southeast   1629.83350\n",
       "1336   21  female  25.800         0     no  southwest   2007.94500\n",
       "1337   61  female  29.070         0    yes  northwest  29141.36030\n",
       "\n",
       "[1338 rows x 7 columns]"
      ]
     },
     "execution_count": 21,
     "metadata": {
     },
     "output_type": "execute_result"
    }
   ],
   "source": [
    "#import data\n",
    "insurance = pd.read_csv('./Data/insurance.csv')\n",
    "insurance"
   ]
  },
  {
   "cell_type": "markdown",
   "metadata": {
    "collapsed": false
   },
   "source": [
    "In this dataset, we will be trying to predict the amount of medical charges based on a patient's data.\n",
    "\n",
    "So which column in this table will be our <b>target variable</b> (the variable we are trying to predict)?\n",
    "\n",
    "Which columns are our <b> feature variables </b> (the variables we are using to predict our target)?\n",
    "\n"
   ]
  },
  {
   "cell_type": "code",
   "execution_count": 3,
   "metadata": {
    "collapsed": false
   },
   "outputs": [
    {
     "data": {
      "text/plain": [
       "Index(['age', 'sex', 'bmi', 'children', 'smoker', 'region', 'charges'], dtype='object')"
      ]
     },
     "execution_count": 3,
     "metadata": {
     },
     "output_type": "execute_result"
    }
   ],
   "source": [
    "insurance.columns"
   ]
  },
  {
   "cell_type": "markdown",
   "metadata": {
    "collapsed": false
   },
   "source": [
    "First, let's do some simple EDA to see what our dataset looks like:"
   ]
  },
  {
   "cell_type": "code",
   "execution_count": 4,
   "metadata": {
    "collapsed": false
   },
   "outputs": [
   ],
   "source": [
    "categorical = ['sex', 'smoker', 'region']\n",
    "\n",
    "for category in categorical:\n",
    "    fig = px.histogram(insurance, x = category)\n",
    "    fig.show()"
   ]
  },
  {
   "cell_type": "code",
   "execution_count": 0,
   "metadata": {
    "collapsed": false
   },
   "outputs": [
   ],
   "source": [
    "numerical = ['age', 'bmi', 'children']\n",
    "\n",
    "for column in numerical:\n",
    "    fig = px.histogram(insurance, x = column)\n",
    "    fig.show()"
   ]
  },
  {
   "cell_type": "code",
   "execution_count": 0,
   "metadata": {
    "collapsed": false
   },
   "outputs": [
   ],
   "source": [
    "fig = px.scatter(insurance, x = 'children', y = 'charges')\n",
    "fig.show()"
   ]
  },
  {
   "cell_type": "code",
   "execution_count": 0,
   "metadata": {
    "collapsed": false
   },
   "outputs": [
   ],
   "source": [
    "fig = px.scatter(insurance, x = 'age', y = 'charges')\n",
    "fig.show()"
   ]
  },
  {
   "cell_type": "markdown",
   "metadata": {
    "collapsed": false
   },
   "source": [
    "But first! We need to perform a train test split on our data! What is a train-test split?\n",
    "\n",
    "Our training data allows us to build our model and accurately train it so that it can produce the right output.\n",
    "Our validation/test set acts as a set of <b> NEW and UNSEEN </b> data to ensure that our model can work with any kind of new data and still be accurate.\n",
    "\n",
    "sklearn library for train test split: https://scikit-learn.org/stable/modules/generated/sklearn.model_selection.train_test_split.html"
   ]
  },
  {
   "cell_type": "code",
   "execution_count": 22,
   "metadata": {
    "collapsed": false
   },
   "outputs": [
   ],
   "source": [
    "#import sklearn library for train test split\n",
    "from sklearn.model_selection import train_test_split\n",
    "\n",
    "#first let's split up our feature variables from our target variables\n",
    "X = insurance[['age', 'bmi', 'children']] # X represents our features\n",
    "y = insurance[['charges']] # y represents what we are trying to predict\n",
    "\n",
    "#now, we must split this into 4 different lists:\n",
    "\n",
    "# X_train -- represents our features in the train set\n",
    "# X_test -- represents our features in the test set\n",
    "# y_train -- represents our target in the train set\n",
    "# y_test -- represents our target in the test set\n",
    "\n",
    "#we can actually assign all of these lists at once using commas :) !!\n",
    "X_train, X_test, y_train, y_test = train_test_split(X, y, train_size = 0.8, random_state=42)"
   ]
  },
  {
   "cell_type": "markdown",
   "metadata": {
    "collapsed": false
   },
   "source": [
    "Looks like this data is pretty clean! So let's get into linear regression! Remember that in linear regression, we want to predict a numerical value -- which in this case is the amount of charges per patient. We can do this using SKlearn!\n",
    "\n",
    "sklearn library for linear regression: https://scikit-learn.org/stable/modules/generated/sklearn.linear_model.LinearRegression.html\n",
    "\n"
   ]
  },
  {
   "cell_type": "code",
   "execution_count": 4,
   "metadata": {
    "collapsed": false
   },
   "outputs": [
    {
     "data": {
      "text/plain": [
       "array([[13305.28945949],\n",
       "       [11801.95170145],\n",
       "       [16941.71437111],\n",
       "       [14278.42206855],\n",
       "       [ 8680.25439362],\n",
       "       [16202.22349193],\n",
       "       [ 5555.8901083 ],\n",
       "       [20602.58565492],\n",
       "       [ 5806.95206068],\n",
       "       [15919.03165614],\n",
       "       [10299.48549201],\n",
       "       [14221.13480456],\n",
       "       [10676.8197114 ],\n",
       "       [19794.64417995],\n",
       "       [20721.14505796],\n",
       "       [18319.57207031],\n",
       "       [20003.52486079],\n",
       "       [16989.16491869],\n",
       "       [13918.10991054],\n",
       "       [12305.80129754],\n",
       "       [10155.63429188],\n",
       "       [15330.37731182],\n",
       "       [ 8175.30663033],\n",
       "       [11961.94421188],\n",
       "       [15950.43401031],\n",
       "       [16659.25006455],\n",
       "       [18787.72664854],\n",
       "       [11630.42705085],\n",
       "       [14220.19351839],\n",
       "       [ 7868.1762212 ],\n",
       "       [14697.87471015],\n",
       "       [17037.49024392],\n",
       "       [10101.76722818],\n",
       "       [ 8821.1844745 ],\n",
       "       [10150.74943027],\n",
       "       [17039.37281627],\n",
       "       [ 7851.03169019],\n",
       "       [13870.41119463],\n",
       "       [13940.42279767],\n",
       "       [14085.77995875],\n",
       "       [10392.4393359 ],\n",
       "       [ 9716.19171103],\n",
       "       [18700.25675242],\n",
       "       [15364.53701599],\n",
       "       [14169.23745665],\n",
       "       [16605.24949913],\n",
       "       [10815.87502296],\n",
       "       [ 9162.47641738],\n",
       "       [17012.91908784],\n",
       "       [14604.73646207],\n",
       "       [19848.64291578],\n",
       "       [ 8175.39974722],\n",
       "       [17035.11042013],\n",
       "       [ 6534.38328069],\n",
       "       [17682.11992809],\n",
       "       [16712.90245652],\n",
       "       [ 8962.56181915],\n",
       "       [13838.94599111],\n",
       "       [17681.80616603],\n",
       "       [16627.84771037],\n",
       "       [18353.73177448],\n",
       "       [15955.29640741],\n",
       "       [21029.74518705],\n",
       "       [12579.89769286],\n",
       "       [15618.10906483],\n",
       "       [ 9241.86189678],\n",
       "       [ 9307.54825435],\n",
       "       [15820.56128268],\n",
       "       [ 7443.45613316],\n",
       "       [11860.62245675],\n",
       "       [15141.87006988],\n",
       "       [15892.9898653 ],\n",
       "       [15550.6350814 ],\n",
       "       [14360.97360647],\n",
       "       [16801.94116293],\n",
       "       [11768.73145387],\n",
       "       [12356.28946057],\n",
       "       [14765.38219017],\n",
       "       [12151.89182104],\n",
       "       [14042.71519173],\n",
       "       [ 9369.41764997],\n",
       "       [16437.08036988],\n",
       "       [11971.87495997],\n",
       "       [12267.28608035],\n",
       "       [16768.85027321],\n",
       "       [15492.18588607],\n",
       "       [12681.37724382],\n",
       "       [16911.56706516],\n",
       "       [14694.20957058],\n",
       "       [19429.7843017 ],\n",
       "       [21350.22745935],\n",
       "       [15647.78572769],\n",
       "       [13499.37790994],\n",
       "       [11035.22085911],\n",
       "       [13606.21802424],\n",
       "       [14755.98079067],\n",
       "       [11119.83937357],\n",
       "       [ 9259.79083294],\n",
       "       [10051.9946475 ],\n",
       "       [10529.64557172],\n",
       "       [10503.91754293],\n",
       "       [ 7677.00291657],\n",
       "       [16307.49388114],\n",
       "       [19925.95636001],\n",
       "       [15206.4270779 ],\n",
       "       [10112.1401814 ],\n",
       "       [14916.62834837],\n",
       "       [12525.14713369],\n",
       "       [ 4987.98075563],\n",
       "       [13745.92746828],\n",
       "       [ 9072.25331511],\n",
       "       [15642.05635599],\n",
       "       [18010.62285298],\n",
       "       [12554.64030716],\n",
       "       [15487.29596582],\n",
       "       [ 9822.81026536],\n",
       "       [16626.74954317],\n",
       "       [13370.38270434],\n",
       "       [13407.86626285],\n",
       "       [ 8611.46159782],\n",
       "       [12996.46960003],\n",
       "       [15420.38574236],\n",
       "       [19237.32751088],\n",
       "       [11092.92097549],\n",
       "       [ 9110.57815468],\n",
       "       [15041.6749199 ],\n",
       "       [15777.25340597],\n",
       "       [15171.70361377],\n",
       "       [18600.18913072],\n",
       "       [12881.98818894],\n",
       "       [10556.81994115],\n",
       "       [14698.72287943],\n",
       "       [14647.29525981],\n",
       "       [16534.42505298],\n",
       "       [13387.74788052],\n",
       "       [19794.39326724],\n",
       "       [12875.43634152],\n",
       "       [13119.85424438],\n",
       "       [16534.58193401],\n",
       "       [12275.1833485 ],\n",
       "       [10760.49693968],\n",
       "       [16407.24682599],\n",
       "       [11388.26741693],\n",
       "       [18953.29439403],\n",
       "       [ 7951.78968535],\n",
       "       [14329.50657336],\n",
       "       [11413.61791952],\n",
       "       [10392.53659663],\n",
       "       [18916.84523858],\n",
       "       [12303.67055687],\n",
       "       [19516.15694542],\n",
       "       [ 8300.91604704],\n",
       "       [11522.4034555 ],\n",
       "       [12681.19101004],\n",
       "       [16309.56177247],\n",
       "       [12906.83869569],\n",
       "       [18235.95677658],\n",
       "       [14577.37494406],\n",
       "       [ 9075.57533987],\n",
       "       [14163.22001645],\n",
       "       [18384.28687417],\n",
       "       [ 7191.92353769],\n",
       "       [17640.87305448],\n",
       "       [ 7101.66510924],\n",
       "       [11511.46168366],\n",
       "       [16631.10688579],\n",
       "       [20313.72638196],\n",
       "       [16816.57559749],\n",
       "       [14572.86255001],\n",
       "       [ 9466.6329752 ],\n",
       "       [12338.01649481],\n",
       "       [13851.10657019],\n",
       "       [16661.60327998],\n",
       "       [ 9904.135193  ],\n",
       "       [ 7741.31175627],\n",
       "       [13261.85313972],\n",
       "       [ 7278.35994555],\n",
       "       [21458.00703022],\n",
       "       [ 7973.81816318],\n",
       "       [14165.59984025],\n",
       "       [17004.98972255],\n",
       "       [ 4666.87095921],\n",
       "       [11321.79068078],\n",
       "       [13145.96071416],\n",
       "       [ 9452.52605963],\n",
       "       [10257.43174874],\n",
       "       [10693.42983519],\n",
       "       [ 9706.69536504],\n",
       "       [19876.00443379],\n",
       "       [15207.36836408],\n",
       "       [12973.15257738],\n",
       "       [ 7544.27880726],\n",
       "       [ 6439.07805096],\n",
       "       [13910.43328755],\n",
       "       [20468.35741426],\n",
       "       [16468.70428402],\n",
       "       [ 6781.65348002],\n",
       "       [16522.91952117],\n",
       "       [ 6597.5017511 ],\n",
       "       [13424.22547393],\n",
       "       [ 7006.51676054],\n",
       "       [14450.41736224],\n",
       "       [16320.71913083],\n",
       "       [ 8259.89073339],\n",
       "       [ 7776.44301415],\n",
       "       [ 8064.42476508],\n",
       "       [13693.30947937],\n",
       "       [ 7496.95164411],\n",
       "       [17816.25596666],\n",
       "       [ 6873.72888709],\n",
       "       [14678.06826028],\n",
       "       [14994.38125334],\n",
       "       [21131.82290937],\n",
       "       [ 8611.05471887],\n",
       "       [12133.3991249 ],\n",
       "       [ 9783.10193449],\n",
       "       [11121.34350492],\n",
       "       [17840.91518099],\n",
       "       [15276.34647886],\n",
       "       [13536.14174225],\n",
       "       [10384.13933264],\n",
       "       [16723.93734524],\n",
       "       [19196.43064031],\n",
       "       [17144.20282994],\n",
       "       [ 9405.64616025],\n",
       "       [10587.34568809],\n",
       "       [ 4919.72236705],\n",
       "       [ 8238.42510074],\n",
       "       [15679.65963975],\n",
       "       [20727.59872985],\n",
       "       [10759.52813035],\n",
       "       [11136.85454671],\n",
       "       [ 9582.14878935],\n",
       "       [12609.76656293],\n",
       "       [11452.29001774],\n",
       "       [16940.74556178],\n",
       "       [11004.44602905],\n",
       "       [14481.88439535],\n",
       "       [17690.83278373],\n",
       "       [ 9957.10227015],\n",
       "       [13218.352141  ],\n",
       "       [13203.15577606],\n",
       "       [10856.90033661],\n",
       "       [10124.1732322 ],\n",
       "       [ 6439.54869404],\n",
       "       [ 9941.52563463],\n",
       "       [10324.77820389],\n",
       "       [11973.59973649],\n",
       "       [23706.92053096],\n",
       "       [ 3883.25064242],\n",
       "       [ 8130.30241507],\n",
       "       [16128.0701328 ],\n",
       "       [ 8633.99513012],\n",
       "       [13850.00748819],\n",
       "       [ 9211.71459083],\n",
       "       [10670.803186  ],\n",
       "       [16728.0712983 ],\n",
       "       [11451.3221232 ],\n",
       "       [12178.62307054],\n",
       "       [12545.01734769],\n",
       "       [13932.21176746],\n",
       "       [14354.32772736],\n",
       "       [ 9526.11565879],\n",
       "       [19446.67792001],\n",
       "       [15711.84548427],\n",
       "       [12143.74272538],\n",
       "       [21552.59253374],\n",
       "       [17064.94396402]])"
      ]
     },
     "execution_count": 4,
     "metadata": {
     },
     "output_type": "execute_result"
    }
   ],
   "source": [
    "#import sklearn library for linear regression\n",
    "from sklearn.linear_model import LinearRegression\n",
    "\n",
    "#first we set a variable equal to our regression model\n",
    "reg = LinearRegression()\n",
    "\n",
    "#next, we need to fit our model! This is the first step in training a ML model\n",
    "'''which set do we use to fit our model?'''\n",
    "\n",
    "reg.fit(X_train, y_train)\n",
    "\n",
    "#now we can predict our model! \n",
    "train_pred = reg.predict(X_train)\n",
    "y_pred = reg.predict(X_test)\n",
    "y_pred"
   ]
  },
  {
   "cell_type": "markdown",
   "metadata": {
    "collapsed": false
   },
   "source": [
    "Now how well did our model perform? Let's check using r2_score!\n",
    "\n",
    "sklearn library for r2_score: https://scikit-learn.org/stable/modules/generated/sklearn.metrics.r2_score.html\n",
    "\n",
    "If we were using logistic regression/classification, we would use accuracy!\n",
    "\n",
    "sklearn library for accuracy score: https://scikit-learn.org/stable/modules/generated/sklearn.metrics.accuracy_score.html\n",
    "\n"
   ]
  },
  {
   "cell_type": "code",
   "execution_count": 5,
   "metadata": {
    "collapsed": false
   },
   "outputs": [
    {
     "name": "stdout",
     "output_type": "stream",
     "text": [
      "R-squared for test set:  0.10987471044767094\n"
     ]
    }
   ],
   "source": [
    "from sklearn.metrics import r2_score\n",
    "\n",
    "r2 = r2_score(y_train, train_pred)\n",
    "print('R-squared for test set: ', r2)"
   ]
  },
  {
   "cell_type": "code",
   "execution_count": 6,
   "metadata": {
    "collapsed": false
   },
   "outputs": [
    {
     "name": "stdout",
     "output_type": "stream",
     "text": [
      "R-squared for test set:  0.15489592484270776\n"
     ]
    }
   ],
   "source": [
    "#import sklearn library for r2_score\n",
    "from sklearn.metrics import r2_score\n",
    "\n",
    "r2 = r2_score(y_test, y_pred)\n",
    "print('R-squared for test set: ', r2)"
   ]
  },
  {
   "cell_type": "markdown",
   "metadata": {
    "collapsed": false
   },
   "source": [
    "Dang that is a really low R-squared! This means that the features we chose don't have the highest correlation. From here, what we can do is go back to add or change columns in order to improve our model as accurately as possible!"
   ]
  },
  {
   "cell_type": "markdown",
   "metadata": {
    "collapsed": false
   },
   "source": [
    "## Logistic Regression Example"
   ]
  },
  {
   "cell_type": "code",
   "execution_count": 4,
   "metadata": {
    "collapsed": false
   },
   "outputs": [
    {
     "data": {
      "text/html": [
       "<div>\n",
       "<style scoped>\n",
       "    .dataframe tbody tr th:only-of-type {\n",
       "        vertical-align: middle;\n",
       "    }\n",
       "\n",
       "    .dataframe tbody tr th {\n",
       "        vertical-align: top;\n",
       "    }\n",
       "\n",
       "    .dataframe thead th {\n",
       "        text-align: right;\n",
       "    }\n",
       "</style>\n",
       "<table border=\"1\" class=\"dataframe\">\n",
       "  <thead>\n",
       "    <tr style=\"text-align: right;\">\n",
       "      <th></th>\n",
       "      <th>Age</th>\n",
       "      <th>Sex</th>\n",
       "      <th>BP</th>\n",
       "      <th>Cholesterol</th>\n",
       "      <th>Na_to_K</th>\n",
       "      <th>Drug</th>\n",
       "    </tr>\n",
       "  </thead>\n",
       "  <tbody>\n",
       "    <tr>\n",
       "      <th>0</th>\n",
       "      <td>23</td>\n",
       "      <td>F</td>\n",
       "      <td>HIGH</td>\n",
       "      <td>HIGH</td>\n",
       "      <td>25.355</td>\n",
       "      <td>DrugY</td>\n",
       "    </tr>\n",
       "    <tr>\n",
       "      <th>1</th>\n",
       "      <td>47</td>\n",
       "      <td>M</td>\n",
       "      <td>LOW</td>\n",
       "      <td>HIGH</td>\n",
       "      <td>13.093</td>\n",
       "      <td>drugC</td>\n",
       "    </tr>\n",
       "    <tr>\n",
       "      <th>2</th>\n",
       "      <td>47</td>\n",
       "      <td>M</td>\n",
       "      <td>LOW</td>\n",
       "      <td>HIGH</td>\n",
       "      <td>10.114</td>\n",
       "      <td>drugC</td>\n",
       "    </tr>\n",
       "    <tr>\n",
       "      <th>3</th>\n",
       "      <td>28</td>\n",
       "      <td>F</td>\n",
       "      <td>NORMAL</td>\n",
       "      <td>HIGH</td>\n",
       "      <td>7.798</td>\n",
       "      <td>drugX</td>\n",
       "    </tr>\n",
       "    <tr>\n",
       "      <th>4</th>\n",
       "      <td>61</td>\n",
       "      <td>F</td>\n",
       "      <td>LOW</td>\n",
       "      <td>HIGH</td>\n",
       "      <td>18.043</td>\n",
       "      <td>DrugY</td>\n",
       "    </tr>\n",
       "    <tr>\n",
       "      <th>...</th>\n",
       "      <td>...</td>\n",
       "      <td>...</td>\n",
       "      <td>...</td>\n",
       "      <td>...</td>\n",
       "      <td>...</td>\n",
       "      <td>...</td>\n",
       "    </tr>\n",
       "    <tr>\n",
       "      <th>195</th>\n",
       "      <td>56</td>\n",
       "      <td>F</td>\n",
       "      <td>LOW</td>\n",
       "      <td>HIGH</td>\n",
       "      <td>11.567</td>\n",
       "      <td>drugC</td>\n",
       "    </tr>\n",
       "    <tr>\n",
       "      <th>196</th>\n",
       "      <td>16</td>\n",
       "      <td>M</td>\n",
       "      <td>LOW</td>\n",
       "      <td>HIGH</td>\n",
       "      <td>12.006</td>\n",
       "      <td>drugC</td>\n",
       "    </tr>\n",
       "    <tr>\n",
       "      <th>197</th>\n",
       "      <td>52</td>\n",
       "      <td>M</td>\n",
       "      <td>NORMAL</td>\n",
       "      <td>HIGH</td>\n",
       "      <td>9.894</td>\n",
       "      <td>drugX</td>\n",
       "    </tr>\n",
       "    <tr>\n",
       "      <th>198</th>\n",
       "      <td>23</td>\n",
       "      <td>M</td>\n",
       "      <td>NORMAL</td>\n",
       "      <td>NORMAL</td>\n",
       "      <td>14.020</td>\n",
       "      <td>drugX</td>\n",
       "    </tr>\n",
       "    <tr>\n",
       "      <th>199</th>\n",
       "      <td>40</td>\n",
       "      <td>F</td>\n",
       "      <td>LOW</td>\n",
       "      <td>NORMAL</td>\n",
       "      <td>11.349</td>\n",
       "      <td>drugX</td>\n",
       "    </tr>\n",
       "  </tbody>\n",
       "</table>\n",
       "<p>200 rows × 6 columns</p>\n",
       "</div>"
      ],
      "text/plain": [
       "     Age Sex      BP Cholesterol  Na_to_K   Drug\n",
       "0     23   F    HIGH        HIGH   25.355  DrugY\n",
       "1     47   M     LOW        HIGH   13.093  drugC\n",
       "2     47   M     LOW        HIGH   10.114  drugC\n",
       "3     28   F  NORMAL        HIGH    7.798  drugX\n",
       "4     61   F     LOW        HIGH   18.043  DrugY\n",
       "..   ...  ..     ...         ...      ...    ...\n",
       "195   56   F     LOW        HIGH   11.567  drugC\n",
       "196   16   M     LOW        HIGH   12.006  drugC\n",
       "197   52   M  NORMAL        HIGH    9.894  drugX\n",
       "198   23   M  NORMAL      NORMAL   14.020  drugX\n",
       "199   40   F     LOW      NORMAL   11.349  drugX\n",
       "\n",
       "[200 rows x 6 columns]"
      ]
     },
     "execution_count": 4,
     "metadata": {
     },
     "output_type": "execute_result"
    }
   ],
   "source": [
    "drug = pd.read_csv('./Data/drug200.csv')\n",
    "drug"
   ]
  },
  {
   "cell_type": "code",
   "execution_count": 5,
   "metadata": {
    "collapsed": false
   },
   "outputs": [
    {
     "data": {
      "text/plain": [
       "Index(['age', 'sex', 'bp', 'cholesterol', 'na-k', 'drug-type'], dtype='object')"
      ]
     },
     "execution_count": 5,
     "metadata": {
     },
     "output_type": "execute_result"
    }
   ],
   "source": [
    "#making all the column names lowercase\n",
    "drug.columns = ['age', 'sex', 'bp', 'cholesterol', 'na-k', 'drug-type']\n",
    "drug.columns"
   ]
  },
  {
   "cell_type": "markdown",
   "metadata": {
    "collapsed": false
   },
   "source": [
    "In this example, we will be building a model to predict the type of drug that a patient should take.\n",
    "\n",
    "What are our <b> feature variables </b>?\n",
    "\n",
    "What is our <b> target variable </b>?"
   ]
  },
  {
   "cell_type": "markdown",
   "metadata": {
    "collapsed": false
   },
   "source": [
    "Now, let's perform our train test split!"
   ]
  },
  {
   "cell_type": "code",
   "execution_count": 7,
   "metadata": {
    "collapsed": false
   },
   "outputs": [
   ],
   "source": [
    "from sklearn.model_selection import train_test_split\n",
    "X = drug[['age', 'na-k']] #feature variables\n",
    "y = drug[['drug-type']] #target variable\n",
    "\n",
    "X_train, X_test, y_train, y_test = train_test_split(X, y, train_size = 0.8, random_state = 42)"
   ]
  },
  {
   "cell_type": "markdown",
   "metadata": {
    "collapsed": false
   },
   "source": [
    "Next, let's import our <b> Logistic Regression </b> model!\n",
    "\n",
    "sklearn library for logistic regression: https://scikit-learn.org/stable/modules/generated/sklearn.linear_model.LogisticRegression.html\n"
   ]
  },
  {
   "cell_type": "code",
   "execution_count": 8,
   "metadata": {
    "collapsed": false
   },
   "outputs": [
    {
     "name": "stderr",
     "output_type": "stream",
     "text": [
      "/projects/00955498-d90a-4f7c-a6db-dc898878bed5/miniconda3/envs/ds_env/lib/python3.8/site-packages/sklearn/utils/validation.py:1111: DataConversionWarning: A column-vector y was passed when a 1d array was expected. Please change the shape of y to (n_samples, ), for example using ravel().\n",
      "  y = column_or_1d(y, warn=True)\n",
      "/projects/00955498-d90a-4f7c-a6db-dc898878bed5/miniconda3/envs/ds_env/lib/python3.8/site-packages/sklearn/linear_model/_logistic.py:444: ConvergenceWarning: lbfgs failed to converge (status=1):\n",
      "STOP: TOTAL NO. of ITERATIONS REACHED LIMIT.\n",
      "\n",
      "Increase the number of iterations (max_iter) or scale the data as shown in:\n",
      "    https://scikit-learn.org/stable/modules/preprocessing.html\n",
      "Please also refer to the documentation for alternative solver options:\n",
      "    https://scikit-learn.org/stable/modules/linear_model.html#logistic-regression\n",
      "  n_iter_i = _check_optimize_result(\n"
     ]
    }
   ],
   "source": [
    "#import library for logisitic regression\n",
    "from sklearn.linear_model import LogisticRegression\n",
    "\n",
    "#first, set a variable equal to our model\n",
    "lr = LogisticRegression()\n",
    "\n",
    "#next, let's fit the model to our training set\n",
    "lr.fit(X_train, y_train)\n",
    "\n",
    "#predict using test set\n",
    "y_pred = lr.predict(X_test)"
   ]
  },
  {
   "cell_type": "code",
   "execution_count": 9,
   "metadata": {
    "collapsed": false
   },
   "outputs": [
    {
     "name": "stdout",
     "output_type": "stream",
     "text": [
      "Accuracy of test set:  0.675\n"
     ]
    }
   ],
   "source": [
    "from sklearn.metrics import accuracy_score\n",
    "\n",
    "accuracy = accuracy_score(y_test, y_pred)\n",
    "print('Accuracy of test set: ', accuracy)"
   ]
  },
  {
   "cell_type": "code",
   "execution_count": 0,
   "metadata": {
    "collapsed": false
   },
   "outputs": [
   ],
   "source": [
   ]
  },
  {
   "cell_type": "code",
   "execution_count": 13,
   "metadata": {
    "collapsed": false
   },
   "outputs": [
    {
     "name": "stderr",
     "output_type": "stream",
     "text": [
      "/projects/00955498-d90a-4f7c-a6db-dc898878bed5/miniconda3/envs/ds_env/lib/python3.8/site-packages/sklearn/neighbors/_classification.py:200: DataConversionWarning: A column-vector y was passed when a 1d array was expected. Please change the shape of y to (n_samples,), for example using ravel().\n",
      "  return self._fit(X, y)\n"
     ]
    }
   ],
   "source": [
    "from sklearn.neighbors import KNeighborsClassifier\n",
    "\n",
    "kn = KNeighborsClassifier(n_neighbors=5)\n",
    "\n",
    "kn.fit(X_train, y_train)\n",
    "\n",
    "y_pred = kn.predict(X_test)"
   ]
  },
  {
   "cell_type": "code",
   "execution_count": 14,
   "metadata": {
    "collapsed": false
   },
   "outputs": [
    {
     "name": "stdout",
     "output_type": "stream",
     "text": [
      "Accuracy of test set:  0.65\n"
     ]
    }
   ],
   "source": [
    "from sklearn.metrics import accuracy_score\n",
    "\n",
    "accuracy = accuracy_score(y_test, y_pred)\n",
    "print('Accuracy of test set: ', accuracy)"
   ]
  },
  {
   "cell_type": "code",
   "execution_count": 19,
   "metadata": {
    "collapsed": false
   },
   "outputs": [
    {
     "data": {
      "text/plain": [
       "0.65"
      ]
     },
     "execution_count": 19,
     "metadata": {
     },
     "output_type": "execute_result"
    }
   ],
   "source": [
    "from sklearn.metrics import recall_score\n",
    "recall = recall_score(y_test, y_pred, average = 'micro')\n",
    "recall"
   ]
  },
  {
   "cell_type": "markdown",
   "metadata": {
    "collapsed": false
   },
   "source": [
    "### sklearn library for k-nearest neighbors: https://scikit-learn.org/stable/modules/generated/sklearn.neighbors.KNeighborsRegressor.html\n",
    "\n",
    "\n",
    "### sklearn library for decision trees: https://scikit-learn.org/stable/modules/generated/sklearn.tree.DecisionTreeRegressor.html"
   ]
  },
  {
   "cell_type": "code",
   "execution_count": 0,
   "metadata": {
    "collapsed": false
   },
   "outputs": [
   ],
   "source": [
   ]
  }
 ],
 "metadata": {
  "kernelspec": {
   "display_name": "Python (ds_env)",
   "language": "python",
   "metadata": {
    "debugger": true
   },
   "name": "ds_env",
   "resource_dir": "/projects/00955498-d90a-4f7c-a6db-dc898878bed5/.local/share/jupyter/kernels/ds_env"
  },
  "language_info": {
   "codemirror_mode": {
    "name": "ipython",
    "version": 3
   },
   "file_extension": ".py",
   "mimetype": "text/x-python",
   "name": "python",
   "nbconvert_exporter": "python",
   "pygments_lexer": "ipython3",
   "version": "3.8.13"
  }
 },
 "nbformat": 4,
 "nbformat_minor": 4
}